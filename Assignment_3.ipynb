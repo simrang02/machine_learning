{
  "nbformat": 4,
  "nbformat_minor": 0,
  "metadata": {
    "colab": {
      "name": "Assignment_3.ipynb",
      "version": "0.3.2",
      "provenance": [],
      "include_colab_link": true
    },
    "kernelspec": {
      "name": "python3",
      "display_name": "Python 3"
    }
  },
  "cells": [
    {
      "cell_type": "markdown",
      "metadata": {
        "id": "view-in-github",
        "colab_type": "text"
      },
      "source": [
        "[View in Colaboratory](https://colab.research.google.com/github/simrang02/machine_learning/blob/master/Assignment_3.ipynb)"
      ]
    },
    {
      "metadata": {
        "id": "bdiwtrRIbG-i",
        "colab_type": "code",
        "colab": {
          "base_uri": "https://localhost:8080/",
          "height": 34
        },
        "outputId": "4379e01d-13c2-40b0-dd66-d0fc1412f6eb"
      },
      "cell_type": "code",
      "source": [
        "# question 1\n",
        "def probability(proA,proB,AB):\n",
        "  x = proA\n",
        "  y = proB\n",
        "  z = AB\n",
        "  BA = (z * y) / x\n",
        "  return BA\n",
        "probability(11/36 , 6/36 , 2/36)"
      ],
      "execution_count": 0,
      "outputs": [
        {
          "output_type": "execute_result",
          "data": {
            "text/plain": [
              "0.0303030303030303"
            ]
          },
          "metadata": {
            "tags": []
          },
          "execution_count": 2
        }
      ]
    },
    {
      "metadata": {
        "id": "cuiY_UKXckNR",
        "colab_type": "code",
        "colab": {
          "base_uri": "https://localhost:8080/",
          "height": 34
        },
        "outputId": "a34a6051-a59c-40db-d46e-9e6d52aeec99"
      },
      "cell_type": "code",
      "source": [
        "# question 2\n",
        "bag1 = 1/2\n",
        "bag2 = 1/2\n",
        "blackbag1 = 6/10\n",
        "blackbag2 = 3/7\n",
        "prob = (bag1 * blackbag1) / ((bag1 * blackbag1) + (bag2 * blackbag2))\n",
        "print (prob)"
      ],
      "execution_count": 0,
      "outputs": [
        {
          "output_type": "stream",
          "text": [
            "0.5833333333333334\n"
          ],
          "name": "stdout"
        }
      ]
    },
    {
      "metadata": {
        "id": "SLQByAMfdcVd",
        "colab_type": "code",
        "colab": {
          "base_uri": "https://localhost:8080/",
          "height": 34
        },
        "outputId": "7342a2a2-2781-422b-aa45-b4c386501036"
      },
      "cell_type": "code",
      "source": [
        "# question 3\n",
        "truth = 2/3\n",
        "lie = 1/3\n",
        "six = 1/6\n",
        "nosix = 5/6\n",
        "prob = (truth * six) / ((truth * six) + (lie * nosix))\n",
        "print (prob)"
      ],
      "execution_count": 0,
      "outputs": [
        {
          "output_type": "stream",
          "text": [
            "0.2857142857142857\n"
          ],
          "name": "stdout"
        }
      ]
    }
  ]
}