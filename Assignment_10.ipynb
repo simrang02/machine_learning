{
  "nbformat": 4,
  "nbformat_minor": 0,
  "metadata": {
    "colab": {
      "name": "Assignment_10.ipynb",
      "version": "0.3.2",
      "provenance": [],
      "collapsed_sections": []
    },
    "kernelspec": {
      "name": "python3",
      "display_name": "Python 3"
    }
  },
  "cells": [
    {
      "cell_type": "markdown",
      "metadata": {
        "id": "view-in-github",
        "colab_type": "text"
      },
      "source": [
        "[View in Colaboratory](https://colab.research.google.com/github/simrang02/machine_learning/blob/master/Assignment_10.ipynb)"
      ]
    },
    {
      "metadata": {
        "id": "lsK54vYrrxhE",
        "colab_type": "code",
        "colab": {}
      },
      "cell_type": "code",
      "source": [
        "#importing packages\n",
        "import numpy as np\n",
        "import pandas as pd\n",
        "import matplotlib.pyplot as plt\n",
        "import seaborn as sns\n",
        "import mpl_toolkits\n",
        "%matplotlib inline"
      ],
      "execution_count": 0,
      "outputs": []
    },
    {
      "metadata": {
        "id": "QvZMwKBar3KE",
        "colab_type": "code",
        "colab": {}
      },
      "cell_type": "code",
      "source": [
        "from sklearn.datasets import load_digits\n",
        "digits = load_digits()"
      ],
      "execution_count": 0,
      "outputs": []
    },
    {
      "metadata": {
        "id": "-0jZToIlr6AQ",
        "colab_type": "code",
        "colab": {
          "base_uri": "https://localhost:8080/",
          "height": 34
        },
        "outputId": "3337c43e-adcc-4711-cf84-d762d71a8251"
      },
      "cell_type": "code",
      "source": [
        "digits.data.shape"
      ],
      "execution_count": 293,
      "outputs": [
        {
          "output_type": "execute_result",
          "data": {
            "text/plain": [
              "(1797, 64)"
            ]
          },
          "metadata": {
            "tags": []
          },
          "execution_count": 293
        }
      ]
    },
    {
      "metadata": {
        "id": "09Fd9Y_dr8sb",
        "colab_type": "code",
        "colab": {
          "base_uri": "https://localhost:8080/",
          "height": 34
        },
        "outputId": "2e81640b-56a8-4ff6-d0f0-fd0c428c9bce"
      },
      "cell_type": "code",
      "source": [
        "digits.data.size"
      ],
      "execution_count": 294,
      "outputs": [
        {
          "output_type": "execute_result",
          "data": {
            "text/plain": [
              "115008"
            ]
          },
          "metadata": {
            "tags": []
          },
          "execution_count": 294
        }
      ]
    },
    {
      "metadata": {
        "id": "AohkcQOAsNvQ",
        "colab_type": "code",
        "colab": {}
      },
      "cell_type": "code",
      "source": [
        "from sklearn.model_selection import train_test_split"
      ],
      "execution_count": 0,
      "outputs": []
    },
    {
      "metadata": {
        "id": "FR8VzdYxs7EO",
        "colab_type": "code",
        "colab": {}
      },
      "cell_type": "code",
      "source": [
        "X, y = digits.data, digits.target\n",
        "X_train, X_test, y_train, y_test = train_test_split(X , y, test_size=0.30, random_state = 101)"
      ],
      "execution_count": 0,
      "outputs": []
    },
    {
      "metadata": {
        "id": "RTOu5K53tBlA",
        "colab_type": "code",
        "colab": {}
      },
      "cell_type": "code",
      "source": [
        "from sklearn.preprocessing import *\n",
        "from sklearn.linear_model import LogisticRegression"
      ],
      "execution_count": 0,
      "outputs": []
    },
    {
      "metadata": {
        "id": "ZKBlLKkttm5x",
        "colab_type": "code",
        "colab": {}
      },
      "cell_type": "code",
      "source": [
        "reg = LogisticRegression()"
      ],
      "execution_count": 0,
      "outputs": []
    },
    {
      "metadata": {
        "id": "uK5sBKkdtogK",
        "colab_type": "code",
        "colab": {
          "base_uri": "https://localhost:8080/",
          "height": 85
        },
        "outputId": "9323d082-36a5-469c-9160-a3b6cea8d3fe"
      },
      "cell_type": "code",
      "source": [
        "reg.fit(X_train,y_train)"
      ],
      "execution_count": 299,
      "outputs": [
        {
          "output_type": "execute_result",
          "data": {
            "text/plain": [
              "LogisticRegression(C=1.0, class_weight=None, dual=False, fit_intercept=True,\n",
              "          intercept_scaling=1, max_iter=100, multi_class='ovr', n_jobs=1,\n",
              "          penalty='l2', random_state=None, solver='liblinear', tol=0.0001,\n",
              "          verbose=0, warm_start=False)"
            ]
          },
          "metadata": {
            "tags": []
          },
          "execution_count": 299
        }
      ]
    },
    {
      "metadata": {
        "id": "w438aNw1trYT",
        "colab_type": "code",
        "colab": {}
      },
      "cell_type": "code",
      "source": [
        "predict=reg.predict(X_test)"
      ],
      "execution_count": 0,
      "outputs": []
    },
    {
      "metadata": {
        "id": "kfAt2rKYtvWX",
        "colab_type": "code",
        "colab": {
          "base_uri": "https://localhost:8080/",
          "height": 34
        },
        "outputId": "c762b1d7-02e7-4695-9349-cf11d75009b2"
      },
      "cell_type": "code",
      "source": [
        "reg.score(X_test,y_test)"
      ],
      "execution_count": 301,
      "outputs": [
        {
          "output_type": "execute_result",
          "data": {
            "text/plain": [
              "0.9685185185185186"
            ]
          },
          "metadata": {
            "tags": []
          },
          "execution_count": 301
        }
      ]
    },
    {
      "metadata": {
        "id": "-cZSWO5ZtygO",
        "colab_type": "code",
        "colab": {}
      },
      "cell_type": "code",
      "source": [
        "from sklearn.metrics import *"
      ],
      "execution_count": 0,
      "outputs": []
    },
    {
      "metadata": {
        "id": "VgztLsVGuD3H",
        "colab_type": "code",
        "colab": {
          "base_uri": "https://localhost:8080/",
          "height": 34
        },
        "outputId": "7863bc0e-dcd9-45d2-90fe-c4fac7786397"
      },
      "cell_type": "code",
      "source": [
        "accuracy_score(y_test,predict)"
      ],
      "execution_count": 305,
      "outputs": [
        {
          "output_type": "execute_result",
          "data": {
            "text/plain": [
              "0.9685185185185186"
            ]
          },
          "metadata": {
            "tags": []
          },
          "execution_count": 305
        }
      ]
    },
    {
      "metadata": {
        "id": "zdwByKyiuRfL",
        "colab_type": "code",
        "colab": {
          "base_uri": "https://localhost:8080/",
          "height": 34
        },
        "outputId": "c73f403a-b010-4abe-8a14-e6d9dd0d8be7"
      },
      "cell_type": "code",
      "source": [
        "pred = reg.predict_proba(X_test)\n",
        "log_loss(y_test,pred) "
      ],
      "execution_count": 306,
      "outputs": [
        {
          "output_type": "execute_result",
          "data": {
            "text/plain": [
              "0.16877359836747335"
            ]
          },
          "metadata": {
            "tags": []
          },
          "execution_count": 306
        }
      ]
    },
    {
      "metadata": {
        "id": "UxtuhwZsyDgo",
        "colab_type": "code",
        "colab": {
          "base_uri": "https://localhost:8080/",
          "height": 34
        },
        "outputId": "909111c4-bc0a-40f4-d9f2-5712bc56460c"
      },
      "cell_type": "code",
      "source": [
        "r2_score(y_test, predict)"
      ],
      "execution_count": 307,
      "outputs": [
        {
          "output_type": "execute_result",
          "data": {
            "text/plain": [
              "0.9510678957408394"
            ]
          },
          "metadata": {
            "tags": []
          },
          "execution_count": 307
        }
      ]
    },
    {
      "metadata": {
        "id": "lpfv9j9my8Qr",
        "colab_type": "code",
        "colab": {
          "base_uri": "https://localhost:8080/",
          "height": 34
        },
        "outputId": "0736930c-af9e-4280-bfb7-cfc332777101"
      },
      "cell_type": "code",
      "source": [
        "mean_absolute_error(y_test, predict)"
      ],
      "execution_count": 308,
      "outputs": [
        {
          "output_type": "execute_result",
          "data": {
            "text/plain": [
              "0.09444444444444444"
            ]
          },
          "metadata": {
            "tags": []
          },
          "execution_count": 308
        }
      ]
    },
    {
      "metadata": {
        "id": "NkqG0LhWzF6o",
        "colab_type": "code",
        "colab": {
          "base_uri": "https://localhost:8080/",
          "height": 34
        },
        "outputId": "7df82bd5-5eae-4e1b-8740-d7270e6db907"
      },
      "cell_type": "code",
      "source": [
        "mean_squared_error(y_test, predict)"
      ],
      "execution_count": 309,
      "outputs": [
        {
          "output_type": "execute_result",
          "data": {
            "text/plain": [
              "0.39444444444444443"
            ]
          },
          "metadata": {
            "tags": []
          },
          "execution_count": 309
        }
      ]
    },
    {
      "metadata": {
        "id": "8akDjXVvzNfa",
        "colab_type": "code",
        "colab": {
          "base_uri": "https://localhost:8080/",
          "height": 187
        },
        "outputId": "70129d86-6380-4cee-d836-658084432f87"
      },
      "cell_type": "code",
      "source": [
        "confusion_matrix(y_test, predict)"
      ],
      "execution_count": 310,
      "outputs": [
        {
          "output_type": "execute_result",
          "data": {
            "text/plain": [
              "array([[53,  0,  0,  0,  0,  0,  0,  0,  0,  0],\n",
              "       [ 0, 52,  0,  1,  0,  0,  1,  0,  1,  0],\n",
              "       [ 0,  0, 49,  0,  0,  0,  0,  0,  0,  0],\n",
              "       [ 0,  0,  0, 54,  0,  0,  0,  0,  0,  0],\n",
              "       [ 0,  2,  0,  0, 59,  0,  0,  0,  0,  0],\n",
              "       [ 0,  0,  0,  0,  0, 57,  0,  1,  1,  0],\n",
              "       [ 0,  0,  0,  0,  0,  0, 45,  0,  1,  0],\n",
              "       [ 0,  0,  0,  0,  2,  0,  0, 54,  0,  0],\n",
              "       [ 0,  1,  0,  1,  0,  0,  0,  0, 55,  2],\n",
              "       [ 0,  0,  0,  0,  0,  0,  0,  1,  2, 45]])"
            ]
          },
          "metadata": {
            "tags": []
          },
          "execution_count": 310
        }
      ]
    },
    {
      "metadata": {
        "id": "vQIsnqtYzY-Z",
        "colab_type": "code",
        "colab": {
          "base_uri": "https://localhost:8080/",
          "height": 272
        },
        "outputId": "0c30a4f3-0140-4cfe-d24b-4e20f7024ad1"
      },
      "cell_type": "code",
      "source": [
        "a = classification_report(y_test, predict)\n",
        "print(a)"
      ],
      "execution_count": 311,
      "outputs": [
        {
          "output_type": "stream",
          "text": [
            "             precision    recall  f1-score   support\n",
            "\n",
            "          0       1.00      1.00      1.00        53\n",
            "          1       0.95      0.95      0.95        55\n",
            "          2       1.00      1.00      1.00        49\n",
            "          3       0.96      1.00      0.98        54\n",
            "          4       0.97      0.97      0.97        61\n",
            "          5       1.00      0.97      0.98        59\n",
            "          6       0.98      0.98      0.98        46\n",
            "          7       0.96      0.96      0.96        56\n",
            "          8       0.92      0.93      0.92        59\n",
            "          9       0.96      0.94      0.95        48\n",
            "\n",
            "avg / total       0.97      0.97      0.97       540\n",
            "\n"
          ],
          "name": "stdout"
        }
      ]
    }
  ]
}