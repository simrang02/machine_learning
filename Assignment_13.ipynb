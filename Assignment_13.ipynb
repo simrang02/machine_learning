{
  "nbformat": 4,
  "nbformat_minor": 0,
  "metadata": {
    "colab": {
      "name": "Assignment_13.ipynb",
      "version": "0.3.2",
      "provenance": [],
      "include_colab_link": true
    },
    "kernelspec": {
      "name": "python3",
      "display_name": "Python 3"
    }
  },
  "cells": [
    {
      "cell_type": "markdown",
      "metadata": {
        "id": "view-in-github",
        "colab_type": "text"
      },
      "source": [
        "[View in Colaboratory](https://colab.research.google.com/github/simrang02/machine_learning/blob/master/Assignment_13.ipynb)"
      ]
    },
    {
      "metadata": {
        "id": "VWq9BArv59zX",
        "colab_type": "code",
        "colab": {}
      },
      "cell_type": "code",
      "source": [
        "from sklearn.datasets import load_digits\n",
        "digits = load_digits()"
      ],
      "execution_count": 0,
      "outputs": []
    },
    {
      "metadata": {
        "id": "-8Liz3875_my",
        "colab_type": "code",
        "colab": {
          "base_uri": "https://localhost:8080/",
          "height": 136
        },
        "outputId": "fe77bfde-5633-4998-92a9-bedae422d8ea"
      },
      "cell_type": "code",
      "source": [
        "digits.data"
      ],
      "execution_count": 23,
      "outputs": [
        {
          "output_type": "execute_result",
          "data": {
            "text/plain": [
              "array([[ 0.,  0.,  5., ...,  0.,  0.,  0.],\n",
              "       [ 0.,  0.,  0., ..., 10.,  0.,  0.],\n",
              "       [ 0.,  0.,  0., ..., 16.,  9.,  0.],\n",
              "       ...,\n",
              "       [ 0.,  0.,  1., ...,  6.,  0.,  0.],\n",
              "       [ 0.,  0.,  2., ..., 12.,  0.,  0.],\n",
              "       [ 0.,  0., 10., ..., 12.,  1.,  0.]])"
            ]
          },
          "metadata": {
            "tags": []
          },
          "execution_count": 23
        }
      ]
    },
    {
      "metadata": {
        "id": "iv0Q84P66BOS",
        "colab_type": "code",
        "colab": {}
      },
      "cell_type": "code",
      "source": [
        "from sklearn.model_selection import train_test_split"
      ],
      "execution_count": 0,
      "outputs": []
    },
    {
      "metadata": {
        "id": "tfmUFJQk6O6U",
        "colab_type": "code",
        "colab": {}
      },
      "cell_type": "code",
      "source": [
        "X, y = digits.data, digits.target\n",
        "X_train, X_test, y_train, y_test = train_test_split(X , y, test_size=0.30, random_state = 101)"
      ],
      "execution_count": 0,
      "outputs": []
    },
    {
      "metadata": {
        "id": "zttEewvb6Rky",
        "colab_type": "code",
        "colab": {}
      },
      "cell_type": "code",
      "source": [
        "from sklearn.svm import SVC"
      ],
      "execution_count": 0,
      "outputs": []
    },
    {
      "metadata": {
        "id": "H3Efc_U66xCA",
        "colab_type": "code",
        "colab": {}
      },
      "cell_type": "code",
      "source": [
        "from sklearn.metrics import *"
      ],
      "execution_count": 0,
      "outputs": []
    },
    {
      "metadata": {
        "id": "IU39TpHB6dGa",
        "colab_type": "code",
        "colab": {}
      },
      "cell_type": "code",
      "source": [
        "svc1 = SVC(kernel = 'linear')\n",
        "svc1.fit(X_train, y_train)\n",
        "predict = svc1.predict(X_test)"
      ],
      "execution_count": 0,
      "outputs": []
    },
    {
      "metadata": {
        "id": "9-RkUgrn7RHZ",
        "colab_type": "code",
        "colab": {
          "base_uri": "https://localhost:8080/",
          "height": 442
        },
        "outputId": "e36abe4c-3f2c-41d1-8182-34a58d09fa2e"
      },
      "cell_type": "code",
      "source": [
        "print(confusion_matrix(y_test, predict))\n",
        "print(classification_report(y_test, predict))"
      ],
      "execution_count": 29,
      "outputs": [
        {
          "output_type": "stream",
          "text": [
            "[[53  0  0  0  0  0  0  0  0  0]\n",
            " [ 0 53  0  0  0  0  0  0  2  0]\n",
            " [ 0  0 49  0  0  0  0  0  0  0]\n",
            " [ 0  0  0 54  0  0  0  0  0  0]\n",
            " [ 0  0  0  0 59  0  0  0  2  0]\n",
            " [ 0  0  0  0  0 58  0  0  0  1]\n",
            " [ 0  1  0  0  1  0 44  0  0  0]\n",
            " [ 0  0  0  0  2  0  0 54  0  0]\n",
            " [ 0  2  0  0  0  0  0  0 57  0]\n",
            " [ 0  0  0  0  0  1  0  0  0 47]]\n",
            "             precision    recall  f1-score   support\n",
            "\n",
            "          0       1.00      1.00      1.00        53\n",
            "          1       0.95      0.96      0.95        55\n",
            "          2       1.00      1.00      1.00        49\n",
            "          3       1.00      1.00      1.00        54\n",
            "          4       0.95      0.97      0.96        61\n",
            "          5       0.98      0.98      0.98        59\n",
            "          6       1.00      0.96      0.98        46\n",
            "          7       1.00      0.96      0.98        56\n",
            "          8       0.93      0.97      0.95        59\n",
            "          9       0.98      0.98      0.98        48\n",
            "\n",
            "avg / total       0.98      0.98      0.98       540\n",
            "\n"
          ],
          "name": "stdout"
        }
      ]
    },
    {
      "metadata": {
        "id": "ugNpgGzi8CgY",
        "colab_type": "code",
        "colab": {}
      },
      "cell_type": "code",
      "source": [
        "svc2 = SVC(kernel = 'poly', degree = 8)\n",
        "svc2.fit(X_train, y_train)\n",
        "predict = svc2.predict(X_test)"
      ],
      "execution_count": 0,
      "outputs": []
    },
    {
      "metadata": {
        "id": "JdBBv9vC8P1e",
        "colab_type": "code",
        "colab": {
          "base_uri": "https://localhost:8080/",
          "height": 442
        },
        "outputId": "66e339dd-6995-49d1-cf40-4f23e2678382"
      },
      "cell_type": "code",
      "source": [
        "print(confusion_matrix(y_test, predict))\n",
        "print(classification_report(y_test, predict))"
      ],
      "execution_count": 31,
      "outputs": [
        {
          "output_type": "stream",
          "text": [
            "[[52  0  0  0  1  0  0  0  0  0]\n",
            " [ 1 51  0  0  0  1  0  0  2  0]\n",
            " [ 0  0 49  0  0  0  0  0  0  0]\n",
            " [ 0  0  0 54  0  0  0  0  0  0]\n",
            " [ 0  0  0  0 59  0  0  0  0  2]\n",
            " [ 0  0  0  1  1 56  0  0  0  1]\n",
            " [ 0  0  0  0  0  0 45  0  1  0]\n",
            " [ 0  0  0  0  0  0  0 56  0  0]\n",
            " [ 0  2  0  1  0  0  0  0 54  2]\n",
            " [ 0  0  0  0  0  0  0  0  0 48]]\n",
            "             precision    recall  f1-score   support\n",
            "\n",
            "          0       0.98      0.98      0.98        53\n",
            "          1       0.96      0.93      0.94        55\n",
            "          2       1.00      1.00      1.00        49\n",
            "          3       0.96      1.00      0.98        54\n",
            "          4       0.97      0.97      0.97        61\n",
            "          5       0.98      0.95      0.97        59\n",
            "          6       1.00      0.98      0.99        46\n",
            "          7       1.00      1.00      1.00        56\n",
            "          8       0.95      0.92      0.93        59\n",
            "          9       0.91      1.00      0.95        48\n",
            "\n",
            "avg / total       0.97      0.97      0.97       540\n",
            "\n"
          ],
          "name": "stdout"
        }
      ]
    },
    {
      "metadata": {
        "id": "WLdLhk3I8VGt",
        "colab_type": "code",
        "colab": {}
      },
      "cell_type": "code",
      "source": [
        "svc3 = SVC(kernel = 'rbf')\n",
        "svc3.fit(X_train, y_train)\n",
        "predict = svc3.predict(X_test)"
      ],
      "execution_count": 0,
      "outputs": []
    },
    {
      "metadata": {
        "id": "HpWDsxlw8a1T",
        "colab_type": "code",
        "colab": {
          "base_uri": "https://localhost:8080/",
          "height": 442
        },
        "outputId": "90abae5b-d14d-4dec-d1cb-1ccf6a6305f4"
      },
      "cell_type": "code",
      "source": [
        "print(confusion_matrix(y_test, predict))\n",
        "print(classification_report(y_test, predict))"
      ],
      "execution_count": 33,
      "outputs": [
        {
          "output_type": "stream",
          "text": [
            "[[25  0  0  0  0  0  0  0  0 28]\n",
            " [ 0 19  0  0  0  0  0  0  0 36]\n",
            " [ 0  0 21  0  0  0  0  0  0 28]\n",
            " [ 0  0  0 26  0  0  0  0  0 28]\n",
            " [ 0  0  0  0 17  0  0  0  0 44]\n",
            " [ 0  0  0  0  0  7  0  0  0 52]\n",
            " [ 0  0  0  0  0  0 35  0  0 11]\n",
            " [ 0  0  0  0  0  0  0 15  0 41]\n",
            " [ 0  0  0  0  0  0  0  0  2 57]\n",
            " [ 0  0  0  0  0  0  0  0  0 48]]\n",
            "             precision    recall  f1-score   support\n",
            "\n",
            "          0       1.00      0.47      0.64        53\n",
            "          1       1.00      0.35      0.51        55\n",
            "          2       1.00      0.43      0.60        49\n",
            "          3       1.00      0.48      0.65        54\n",
            "          4       1.00      0.28      0.44        61\n",
            "          5       1.00      0.12      0.21        59\n",
            "          6       1.00      0.76      0.86        46\n",
            "          7       1.00      0.27      0.42        56\n",
            "          8       1.00      0.03      0.07        59\n",
            "          9       0.13      1.00      0.23        48\n",
            "\n",
            "avg / total       0.92      0.40      0.45       540\n",
            "\n"
          ],
          "name": "stdout"
        }
      ]
    },
    {
      "metadata": {
        "id": "sg5-ZV7X8kV4",
        "colab_type": "code",
        "colab": {}
      },
      "cell_type": "code",
      "source": [
        "svc4 = SVC(kernel = 'sigmoid')\n",
        "svc4.fit(X_train, y_train)\n",
        "predict = svc4.predict(X_test)"
      ],
      "execution_count": 0,
      "outputs": []
    },
    {
      "metadata": {
        "id": "qXL9c0fi8pJu",
        "colab_type": "code",
        "colab": {
          "base_uri": "https://localhost:8080/",
          "height": 496
        },
        "outputId": "1174200a-0f6d-40f7-b106-ec1622c08d36"
      },
      "cell_type": "code",
      "source": [
        "print(confusion_matrix(y_test, predict))\n",
        "print(classification_report(y_test, predict))"
      ],
      "execution_count": 35,
      "outputs": [
        {
          "output_type": "stream",
          "text": [
            "[[ 0  0  0  0  0  0 53  0  0  0]\n",
            " [ 0  0  0  0  0  0 55  0  0  0]\n",
            " [ 0  0  0  0  0  0 49  0  0  0]\n",
            " [ 0  0  0  0  0  0 54  0  0  0]\n",
            " [ 0  0  0  0  0  0 61  0  0  0]\n",
            " [ 0  0  0  0  0  0 59  0  0  0]\n",
            " [ 0  0  0  0  0  0 46  0  0  0]\n",
            " [ 0  0  0  0  0  0 56  0  0  0]\n",
            " [ 0  0  0  0  0  0 59  0  0  0]\n",
            " [ 0  0  0  0  0  0 48  0  0  0]]\n",
            "             precision    recall  f1-score   support\n",
            "\n",
            "          0       0.00      0.00      0.00        53\n",
            "          1       0.00      0.00      0.00        55\n",
            "          2       0.00      0.00      0.00        49\n",
            "          3       0.00      0.00      0.00        54\n",
            "          4       0.00      0.00      0.00        61\n",
            "          5       0.00      0.00      0.00        59\n",
            "          6       0.09      1.00      0.16        46\n",
            "          7       0.00      0.00      0.00        56\n",
            "          8       0.00      0.00      0.00        59\n",
            "          9       0.00      0.00      0.00        48\n",
            "\n",
            "avg / total       0.01      0.09      0.01       540\n",
            "\n"
          ],
          "name": "stdout"
        },
        {
          "output_type": "stream",
          "text": [
            "/usr/local/lib/python3.6/dist-packages/sklearn/metrics/classification.py:1135: UndefinedMetricWarning: Precision and F-score are ill-defined and being set to 0.0 in labels with no predicted samples.\n",
            "  'precision', 'predicted', average, warn_for)\n"
          ],
          "name": "stderr"
        }
      ]
    }
  ]
}