{
  "nbformat": 4,
  "nbformat_minor": 0,
  "metadata": {
    "colab": {
      "name": "Assignment_18.ipynb",
      "version": "0.3.2",
      "provenance": [],
      "include_colab_link": true
    },
    "kernelspec": {
      "name": "python3",
      "display_name": "Python 3"
    }
  },
  "cells": [
    {
      "cell_type": "markdown",
      "metadata": {
        "id": "view-in-github",
        "colab_type": "text"
      },
      "source": [
        "[View in Colaboratory](https://colab.research.google.com/github/simrang02/machine_learning/blob/master/Assignment_18.ipynb)"
      ]
    },
    {
      "metadata": {
        "id": "FjR9QS6fNgGH",
        "colab_type": "code",
        "colab": {
          "base_uri": "https://localhost:8080/",
          "height": 34
        },
        "outputId": "c299fc2d-c185-4b80-c1f8-3e889f038092"
      },
      "cell_type": "code",
      "source": [
        "# question 1\n",
        "print('F = (b+c)(a-1)')"
      ],
      "execution_count": 1,
      "outputs": [
        {
          "output_type": "stream",
          "text": [
            "F = (b+c)(a-1)\n"
          ],
          "name": "stdout"
        }
      ]
    },
    {
      "metadata": {
        "id": "jUC8ksUdOxCA",
        "colab_type": "code",
        "colab": {}
      },
      "cell_type": "code",
      "source": [
        "#question 2\n",
        "x1 = -0.06\n",
        "x2 = -2.5\n",
        "x3 = 1.4\n",
        "\n",
        "w1 = 2.7\n",
        "w2 = -8.6\n",
        "w3 = 0.002\n",
        "\n",
        "X = (w1*x1) + (w2*x2) +(w3*x3)"
      ],
      "execution_count": 0,
      "outputs": []
    },
    {
      "metadata": {
        "id": "FWiAo1DAO8c8",
        "colab_type": "code",
        "colab": {}
      },
      "cell_type": "code",
      "source": [
        "import math"
      ],
      "execution_count": 0,
      "outputs": []
    },
    {
      "metadata": {
        "id": "kcSrb_dCPAws",
        "colab_type": "code",
        "colab": {
          "base_uri": "https://localhost:8080/",
          "height": 34
        },
        "outputId": "88b91b4c-e96c-4f28-fc86-9ac4d41ea481"
      },
      "cell_type": "code",
      "source": [
        "fx = 1 / (1 + math.exp(-X))\n",
        "print(fx)"
      ],
      "execution_count": 4,
      "outputs": [
        {
          "output_type": "stream",
          "text": [
            "0.9999999994607274\n"
          ],
          "name": "stdout"
        }
      ]
    },
    {
      "metadata": {
        "id": "0CqC-nzHPFhZ",
        "colab_type": "code",
        "colab": {
          "base_uri": "https://localhost:8080/",
          "height": 34
        },
        "outputId": "b13de683-3279-4c1e-d4e0-4fa66a9e2f8d"
      },
      "cell_type": "code",
      "source": [
        "bias = -1.1\n",
        "newX = X + bias\n",
        "newfx = 1 / (1 + math.exp(-newX))\n",
        "print(newfx)"
      ],
      "execution_count": 5,
      "outputs": [
        {
          "output_type": "stream",
          "text": [
            "0.9999999983799357\n"
          ],
          "name": "stdout"
        }
      ]
    },
    {
      "metadata": {
        "id": "HjxRSYROPUlw",
        "colab_type": "text"
      },
      "cell_type": "markdown",
      "source": [
        "Bias doesn't affect much as it is very less.\n",
        "\n",
        "Bias can be considered as a negative threshold. A bias can be considered as a method to get output as 1 from the activation function. Bigger the bias value, easier it is to get 1 as the output, but if the bias is negative, it becomes difficult."
      ]
    }
  ]
}