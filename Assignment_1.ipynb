{
  "nbformat": 4,
  "nbformat_minor": 0,
  "metadata": {
    "colab": {
      "name": "Hello, Colaboratory",
      "version": "0.3.2",
      "provenance": [],
      "collapsed_sections": [],
      "include_colab_link": true
    },
    "kernelspec": {
      "display_name": "Python 3",
      "name": "python3"
    }
  },
  "cells": [
    {
      "cell_type": "markdown",
      "metadata": {
        "id": "view-in-github",
        "colab_type": "text"
      },
      "source": [
        "[View in Colaboratory](https://colab.research.google.com/github/simrang02/machine_learning/blob/master/Assignment_1.ipynb)"
      ]
    },
    {
      "metadata": {
        "id": "18L3KXVIJ-78",
        "colab_type": "code",
        "colab": {
          "base_uri": "https://localhost:8080/",
          "height": 34
        },
        "outputId": "aae992df-69ab-4dfe-c13d-fe68815459e3"
      },
      "cell_type": "code",
      "source": [
        "x = [1,2,3,4,5,6,7,8,9,10,11,12,13,14,15,16]\n",
        "print(x)"
      ],
      "execution_count": 0,
      "outputs": [
        {
          "output_type": "stream",
          "text": [
            "[1, 2, 3, 4, 5, 6, 7, 8, 9, 10, 11, 12, 13, 14, 15, 16]\n"
          ],
          "name": "stdout"
        }
      ]
    },
    {
      "metadata": {
        "id": "5_q8UwllKKm-",
        "colab_type": "code",
        "colab": {
          "base_uri": "https://localhost:8080/",
          "height": 51
        },
        "outputId": "468f32aa-982f-4e78-d214-cd1d907def43"
      },
      "cell_type": "code",
      "source": [
        "# question 1\n",
        "print(x[7:12])\n",
        "print(x[-9:-4])"
      ],
      "execution_count": 0,
      "outputs": [
        {
          "output_type": "stream",
          "text": [
            "[8, 9, 10, 11, 12]\n",
            "[8, 9, 10, 11, 12]\n"
          ],
          "name": "stdout"
        }
      ]
    },
    {
      "metadata": {
        "id": "K6mrP9vfKaok",
        "colab_type": "code",
        "colab": {
          "base_uri": "https://localhost:8080/",
          "height": 34
        },
        "outputId": "37b72f9f-bac4-4082-e20a-b8b5a6a829f4"
      },
      "cell_type": "code",
      "source": [
        "# question 2\n",
        "print(x[1:16:2])"
      ],
      "execution_count": 0,
      "outputs": [
        {
          "output_type": "stream",
          "text": [
            "[2, 4, 6, 8, 10, 12, 14, 16]\n"
          ],
          "name": "stdout"
        }
      ]
    },
    {
      "metadata": {
        "id": "e2kow-yXKeId",
        "colab_type": "code",
        "colab": {
          "base_uri": "https://localhost:8080/",
          "height": 34
        },
        "outputId": "082f3203-0d9b-4648-e382-2eb9043a6c7f"
      },
      "cell_type": "code",
      "source": [
        "# question 3\n",
        "print(x[0:15:4])"
      ],
      "execution_count": 0,
      "outputs": [
        {
          "output_type": "stream",
          "text": [
            "[1, 5, 9, 13]\n"
          ],
          "name": "stdout"
        }
      ]
    }
  ]
}